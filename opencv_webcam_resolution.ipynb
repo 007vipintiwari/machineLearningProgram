{
 "cells": [
  {
   "cell_type": "code",
   "execution_count": 1,
   "metadata": {},
   "outputs": [],
   "source": [
    "import cv2"
   ]
  },
  {
   "cell_type": "code",
   "execution_count": 7,
   "metadata": {},
   "outputs": [
    {
     "name": "stdout",
     "output_type": "stream",
     "text": [
      "Height : 480.0\n",
      "Width : 640.0\n",
      "Height : 240.0\n",
      "Width : 320.0\n"
     ]
    }
   ],
   "source": [
    "WindowName = \"Webcam Resolution\"\n",
    "cv2.namedWindow(WindowName)\n",
    "cap = cv2.VideoCapture(0)\n",
    "\n",
    "print('Height : '+ str(cap.get(4)))\n",
    "print('Width : '+ str(cap.get(3)))\n",
    "\n",
    "#set resolution\n",
    "cap.set(3, 400)\n",
    "cap.set(4, 300)\n",
    "\n",
    "\n",
    "print('Height : '+ str(cap.get(4)))\n",
    "print('Width : '+ str(cap.get(3)))\n",
    "\n",
    "if cap.isOpened():\n",
    "    ret ,frame = cap.read()\n",
    "else :\n",
    "    ret = False\n",
    "    \n",
    "while ret:\n",
    "    ret ,frame = cap.read()\n",
    "    \n",
    "    output = cv2.cvtColor(frame,cv2.COLOR_BGR2GRAY)\n",
    "    \n",
    "    cv2.imshow(\"GRAY\",output)\n",
    "    cv2.imshow(WindowName,frame)\n",
    "    if cv2.waitKey(1) == 27:\n",
    "        break\n",
    "cv2.destroyAllWindows()\n",
    "cap.release()"
   ]
  },
  {
   "cell_type": "code",
   "execution_count": null,
   "metadata": {},
   "outputs": [],
   "source": []
  },
  {
   "cell_type": "code",
   "execution_count": null,
   "metadata": {},
   "outputs": [],
   "source": []
  }
 ],
 "metadata": {
  "kernelspec": {
   "display_name": "Python 3",
   "language": "python",
   "name": "python3"
  },
  "language_info": {
   "codemirror_mode": {
    "name": "ipython",
    "version": 3
   },
   "file_extension": ".py",
   "mimetype": "text/x-python",
   "name": "python",
   "nbconvert_exporter": "python",
   "pygments_lexer": "ipython3",
   "version": "3.7.4"
  }
 },
 "nbformat": 4,
 "nbformat_minor": 2
}
