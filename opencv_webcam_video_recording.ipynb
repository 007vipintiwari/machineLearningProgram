{
 "cells": [
  {
   "cell_type": "code",
   "execution_count": 1,
   "metadata": {},
   "outputs": [],
   "source": [
    "import cv2"
   ]
  },
  {
   "cell_type": "code",
   "execution_count": 4,
   "metadata": {},
   "outputs": [],
   "source": [
    "WindowName = \"Live Webcam video recoding\"\n",
    "cv2.namedWindow(WindowName)\n",
    "\n",
    "cap = cv2.VideoCapture(0)\n",
    "\n",
    "\n",
    "#path where video will be stored\n",
    "#output filename is output.avi\n",
    "\n",
    "filename = \"D:\\\\output\\\\output.avi\"\n",
    "codec = cv2.VideoWriter_fourcc('X','V','I','D')\n",
    "framerate = 30\n",
    "resolution = (640 ,480)\n",
    "\n",
    "VideoFileOutput = cv2.VideoWriter(filename,codec,framerate,resolution)\n",
    "\n",
    "\n",
    "\n",
    "\n",
    "\n",
    "if cap.isOpened():\n",
    "    ret ,frame = cap.read()\n",
    "else :\n",
    "    ret = False\n",
    "    \n",
    "while ret:\n",
    "    ret , frame = cap.read()\n",
    "    \n",
    "    frame = cv2.cvtColor(frame, cv2.COLOR_BGR2RGB)\n",
    "    \n",
    "    VideoFileOutput.write(frame)\n",
    "    \n",
    "    cv2.imshow(WindowName,frame)\n",
    "    if cv2.waitKey(1) == 27:\n",
    "        break\n",
    "\n",
    "cv2.destroyAllWindows()\n",
    "VideoFileOutput.release()\n",
    "cap.release()"
   ]
  },
  {
   "cell_type": "code",
   "execution_count": null,
   "metadata": {},
   "outputs": [],
   "source": []
  }
 ],
 "metadata": {
  "kernelspec": {
   "display_name": "Python 3",
   "language": "python",
   "name": "python3"
  },
  "language_info": {
   "codemirror_mode": {
    "name": "ipython",
    "version": 3
   },
   "file_extension": ".py",
   "mimetype": "text/x-python",
   "name": "python",
   "nbconvert_exporter": "python",
   "pygments_lexer": "ipython3",
   "version": "3.7.4"
  }
 },
 "nbformat": 4,
 "nbformat_minor": 2
}
