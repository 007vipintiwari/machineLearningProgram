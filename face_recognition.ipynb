{
 "cells": [
  {
   "cell_type": "code",
   "execution_count": 1,
   "metadata": {},
   "outputs": [],
   "source": [
    "import cv2"
   ]
  },
  {
   "cell_type": "code",
   "execution_count": 2,
   "metadata": {},
   "outputs": [],
   "source": [
    "img = cv2.imread('vipin.jpg',1)"
   ]
  },
  {
   "cell_type": "code",
   "execution_count": 3,
   "metadata": {},
   "outputs": [],
   "source": [
    "img1 = cv2.imread('vipin.jpg',0)"
   ]
  },
  {
   "cell_type": "code",
   "execution_count": 4,
   "metadata": {},
   "outputs": [
    {
     "data": {
      "text/plain": [
       "array([[[252, 254, 254],\n",
       "        [252, 254, 254],\n",
       "        [252, 254, 254],\n",
       "        ...,\n",
       "        [ 14,  16,  17],\n",
       "        [ 10,  12,  13],\n",
       "        [  8,  10,  11]],\n",
       "\n",
       "       [[252, 254, 254],\n",
       "        [252, 254, 254],\n",
       "        [252, 254, 254],\n",
       "        ...,\n",
       "        [  9,  11,  12],\n",
       "        [  7,   9,  10],\n",
       "        [  4,   6,   7]],\n",
       "\n",
       "       [[252, 254, 254],\n",
       "        [252, 254, 254],\n",
       "        [252, 254, 254],\n",
       "        ...,\n",
       "        [  4,   6,   7],\n",
       "        [  6,   8,   9],\n",
       "        [  9,  11,  12]],\n",
       "\n",
       "       ...,\n",
       "\n",
       "       [[112, 138, 155],\n",
       "        [112, 138, 152],\n",
       "        [115, 141, 155],\n",
       "        ...,\n",
       "        [ 99, 107, 114],\n",
       "        [117, 127, 127],\n",
       "        [118, 128, 122]],\n",
       "\n",
       "       [[110, 131, 152],\n",
       "        [104, 127, 143],\n",
       "        [108, 128, 145],\n",
       "        ...,\n",
       "        [ 92,  95, 103],\n",
       "        [110, 115, 116],\n",
       "        [119, 126, 121]],\n",
       "\n",
       "       [[112, 130, 153],\n",
       "        [112, 132, 150],\n",
       "        [112, 130, 147],\n",
       "        ...,\n",
       "        [ 90,  91, 101],\n",
       "        [ 97, 101, 102],\n",
       "        [120, 127, 122]]], dtype=uint8)"
      ]
     },
     "execution_count": 4,
     "metadata": {},
     "output_type": "execute_result"
    }
   ],
   "source": [
    "img"
   ]
  },
  {
   "cell_type": "code",
   "execution_count": 5,
   "metadata": {},
   "outputs": [
    {
     "data": {
      "text/plain": [
       "array([[254, 254, 254, ...,  16,  12,  10],\n",
       "       [254, 254, 254, ...,  11,   9,   6],\n",
       "       [254, 254, 254, ...,   6,   8,  11],\n",
       "       ...,\n",
       "       [140, 139, 142, ..., 108, 126, 125],\n",
       "       [135, 129, 131, ...,  97, 115, 124],\n",
       "       [135, 135, 133, ...,  94, 101, 125]], dtype=uint8)"
      ]
     },
     "execution_count": 5,
     "metadata": {},
     "output_type": "execute_result"
    }
   ],
   "source": [
    "img1"
   ]
  },
  {
   "cell_type": "code",
   "execution_count": 6,
   "metadata": {},
   "outputs": [],
   "source": [
    "cv2.imshow('Lana',img)\n",
    "cv2.waitKey(0)\n",
    "cv2.destroyAllWindows()"
   ]
  },
  {
   "cell_type": "code",
   "execution_count": 8,
   "metadata": {},
   "outputs": [],
   "source": [
    "resized = cv2.resize(img,(600,800))"
   ]
  },
  {
   "cell_type": "code",
   "execution_count": 9,
   "metadata": {},
   "outputs": [],
   "source": [
    "cv2.imshow('Lana',resized)\n",
    "cv2.waitKey(0)\n",
    "cv2.destroyAllWindows()"
   ]
  },
  {
   "cell_type": "code",
   "execution_count": 15,
   "metadata": {},
   "outputs": [],
   "source": [
    "resized_image = cv2.resize(img,(int(img.shape[1]/4),int(img.shape[0]/4)))"
   ]
  },
  {
   "cell_type": "code",
   "execution_count": 16,
   "metadata": {},
   "outputs": [],
   "source": [
    "cv2.imshow('Lana',resized_image)\n",
    "cv2.waitKey(0)\n",
    "cv2.destroyAllWindows()"
   ]
  },
  {
   "cell_type": "code",
   "execution_count": 17,
   "metadata": {},
   "outputs": [],
   "source": [
    "face_cascade = cv2.CascadeClassifier('haarcascade_frontalface_default.xml')"
   ]
  },
  {
   "cell_type": "code",
   "execution_count": 19,
   "metadata": {},
   "outputs": [],
   "source": [
    "gray_img = cv2.cvtColor(resized_image,cv2.COLOR_RGB2GRAY)"
   ]
  },
  {
   "cell_type": "code",
   "execution_count": 20,
   "metadata": {},
   "outputs": [],
   "source": [
    "face = face_cascade.detectMultiScale(gray_img,1.03,5)"
   ]
  },
  {
   "cell_type": "code",
   "execution_count": 27,
   "metadata": {},
   "outputs": [],
   "source": [
    "for (x,y,w,h) in face:\n",
    "       img2 = cv2.rectangle(resized_image,(x,y),(x+w,y+h),(0,255,0),3)"
   ]
  },
  {
   "cell_type": "code",
   "execution_count": 28,
   "metadata": {},
   "outputs": [],
   "source": [
    "cv2.imshow('Lana',img2)\n",
    "cv2.waitKey(0)\n",
    "cv2.destroyAllWindows()"
   ]
  },
  {
   "cell_type": "code",
   "execution_count": 35,
   "metadata": {},
   "outputs": [],
   "source": [
    " import time\n",
    "video = cv2.VideoCapture(0)\n",
    "time.sleep(3)\n",
    "video.release()"
   ]
  },
  {
   "cell_type": "code",
   "execution_count": 36,
   "metadata": {},
   "outputs": [
    {
     "name": "stdout",
     "output_type": "stream",
     "text": [
      "True\n",
      "[[[ 22  21  12]\n",
      "  [ 22  21  12]\n",
      "  [ 12  20  15]\n",
      "  ...\n",
      "  [ 24  33  33]\n",
      "  [ 23  30  35]\n",
      "  [ 23  30  35]]\n",
      "\n",
      " [[ 20  21  12]\n",
      "  [ 20  21  12]\n",
      "  [ 12  21  14]\n",
      "  ...\n",
      "  [ 28  32  33]\n",
      "  [ 25  30  35]\n",
      "  [ 26  31  36]]\n",
      "\n",
      " [[ 22  18  17]\n",
      "  [ 23  19  18]\n",
      "  [ 17  19  18]\n",
      "  ...\n",
      "  [ 24  31  36]\n",
      "  [ 23  30  35]\n",
      "  [ 24  31  36]]\n",
      "\n",
      " ...\n",
      "\n",
      " [[105  92  31]\n",
      "  [106  93  32]\n",
      "  [104  90  25]\n",
      "  ...\n",
      "  [ 29  60  56]\n",
      "  [ 31  57  54]\n",
      "  [ 33  59  56]]\n",
      "\n",
      " [[113  96  33]\n",
      "  [111  94  31]\n",
      "  [112  92  30]\n",
      "  ...\n",
      "  [ 28  59  54]\n",
      "  [ 22  48  45]\n",
      "  [ 21  47  44]]\n",
      "\n",
      " [[118  92  23]\n",
      "  [118  92  23]\n",
      "  [119  90  24]\n",
      "  ...\n",
      "  [ 29  60  55]\n",
      "  [ 23  48  48]\n",
      "  [ 21  46  46]]]\n"
     ]
    }
   ],
   "source": [
    "video = cv2.VideoCapture(0)\n",
    "check,frame = video.read()\n",
    "print(check)\n",
    "print(frame)\n",
    "time.sleep(3)\n",
    "video.release()"
   ]
  },
  {
   "cell_type": "code",
   "execution_count": 39,
   "metadata": {},
   "outputs": [
    {
     "name": "stdout",
     "output_type": "stream",
     "text": [
      "True\n",
      "[[[ 14  16  15]\n",
      "  [ 16  18  17]\n",
      "  [ 13  15   9]\n",
      "  ...\n",
      "  [ 20  22  22]\n",
      "  [ 20  21  25]\n",
      "  [ 20  21  25]]\n",
      "\n",
      " [[ 12  16  15]\n",
      "  [ 13  17  16]\n",
      "  [  9  15   9]\n",
      "  ...\n",
      "  [ 21  19  20]\n",
      "  [ 20  22  23]\n",
      "  [ 20  22  23]]\n",
      "\n",
      " [[  8  18  13]\n",
      "  [ 10  20  15]\n",
      "  [  7  16   9]\n",
      "  ...\n",
      "  [ 18  18  17]\n",
      "  [ 22  19  23]\n",
      "  [ 24  21  25]]\n",
      "\n",
      " ...\n",
      "\n",
      " [[110 105  33]\n",
      "  [114 109  37]\n",
      "  [112 106  30]\n",
      "  ...\n",
      "  [ 14  23  23]\n",
      "  [ 10  20  23]\n",
      "  [  9  19  22]]\n",
      "\n",
      " [[104 107  33]\n",
      "  [102 105  31]\n",
      "  [106 105  28]\n",
      "  ...\n",
      "  [ 13  20  20]\n",
      "  [ 10  19  19]\n",
      "  [ 10  19  19]]\n",
      "\n",
      " [[102  99  21]\n",
      "  [103 100  22]\n",
      "  [108 105  21]\n",
      "  ...\n",
      "  [ 17  19  19]\n",
      "  [ 16  18  18]\n",
      "  [ 15  17  17]]]\n"
     ]
    }
   ],
   "source": [
    "video = cv2.VideoCapture(0)\n",
    "check,frame = video.read()\n",
    "print(check)\n",
    "print(frame)\n",
    "time.sleep(3)\n",
    "cv2.imshow('Capturing',frame)\n",
    "cv2.waitKey(0)\n",
    "video.release()\n",
    "cv2.destroyAllWindows()"
   ]
  },
  {
   "cell_type": "code",
   "execution_count": 42,
   "metadata": {},
   "outputs": [],
   "source": [
    "video = cv2.VideoCapture(0)\n",
    "a = 1\n",
    "while True:\n",
    "    a = a + 1\n",
    "    check,frame = video.read()\n",
    "    gray = cv2.cvtColor(frame,cv2.COLOR_BGR2GRAY)\n",
    "    cv2.imshow('Capturing',gray)\n",
    "    key = cv2.waitKey(1)\n",
    "    if key == ord('q'):\n",
    "        break\n",
    "video.release()\n",
    "cv2.destroyAllWindows()"
   ]
  },
  {
   "cell_type": "code",
   "execution_count": null,
   "metadata": {},
   "outputs": [],
   "source": [
    "import time\n",
    "first_frame = None\n",
    "video = cv2.VideoCapture(0)\n",
    "while True:\n",
    "    check,frame = video.read()\n",
    "    gray = cv2.cvtColor(frame,cv2.COLOR_BGR2GRAY)\n",
    "    gray = cv2.GaussianBlur(gray,(21,21),0)\n",
    "    if first_frame is None:\n",
    "        first_frame = gray\n",
    "        continue"
   ]
  }
 ],
 "metadata": {
  "kernelspec": {
   "display_name": "Python 3",
   "language": "python",
   "name": "python3"
  },
  "language_info": {
   "codemirror_mode": {
    "name": "ipython",
    "version": 3
   },
   "file_extension": ".py",
   "mimetype": "text/x-python",
   "name": "python",
   "nbconvert_exporter": "python",
   "pygments_lexer": "ipython3",
   "version": "3.7.4"
  }
 },
 "nbformat": 4,
 "nbformat_minor": 2
}
