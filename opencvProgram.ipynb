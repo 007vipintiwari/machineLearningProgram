{
 "cells": [
  {
   "cell_type": "code",
   "execution_count": 2,
   "metadata": {},
   "outputs": [],
   "source": [
    "import cv2\n"
   ]
  },
  {
   "cell_type": "code",
   "execution_count": 3,
   "metadata": {},
   "outputs": [
    {
     "ename": "ModuleNotFoundError",
     "evalue": "No module named 'opencv'",
     "output_type": "error",
     "traceback": [
      "\u001b[1;31m---------------------------------------------------------------------------\u001b[0m",
      "\u001b[1;31mModuleNotFoundError\u001b[0m                       Traceback (most recent call last)",
      "\u001b[1;32m<ipython-input-3-140d3f9c9adb>\u001b[0m in \u001b[0;36m<module>\u001b[1;34m\u001b[0m\n\u001b[1;32m----> 1\u001b[1;33m \u001b[1;32mimport\u001b[0m \u001b[0mopencv\u001b[0m\u001b[1;33m\u001b[0m\u001b[1;33m\u001b[0m\u001b[0m\n\u001b[0m",
      "\u001b[1;31mModuleNotFoundError\u001b[0m: No module named 'opencv'"
     ]
    }
   ],
   "source": [
    "import opencv\n"
   ]
  },
  {
   "cell_type": "code",
   "execution_count": 4,
   "metadata": {},
   "outputs": [
    {
     "ename": "ModuleNotFoundError",
     "evalue": "No module named 'opencv2'",
     "output_type": "error",
     "traceback": [
      "\u001b[1;31m---------------------------------------------------------------------------\u001b[0m",
      "\u001b[1;31mModuleNotFoundError\u001b[0m                       Traceback (most recent call last)",
      "\u001b[1;32m<ipython-input-4-1a6b808b7047>\u001b[0m in \u001b[0;36m<module>\u001b[1;34m\u001b[0m\n\u001b[1;32m----> 1\u001b[1;33m \u001b[1;32mimport\u001b[0m \u001b[0mopencv2\u001b[0m\u001b[1;33m\u001b[0m\u001b[1;33m\u001b[0m\u001b[0m\n\u001b[0m",
      "\u001b[1;31mModuleNotFoundError\u001b[0m: No module named 'opencv2'"
     ]
    }
   ],
   "source": [
    "import opencv2\n"
   ]
  },
  {
   "cell_type": "code",
   "execution_count": 5,
   "metadata": {},
   "outputs": [
    {
     "name": "stdout",
     "output_type": "stream",
     "text": [
      "3.4.1\n"
     ]
    }
   ],
   "source": [
    "print(cv2.__version__)"
   ]
  },
  {
   "cell_type": "code",
   "execution_count": 6,
   "metadata": {},
   "outputs": [],
   "source": [
    "imgpath = 'D:\\\\Photos\\\\misc\\\\misc\\\\4.1.04.tiff'\n",
    "img = cv2.imread(imgpath)"
   ]
  },
  {
   "cell_type": "code",
   "execution_count": 7,
   "metadata": {},
   "outputs": [
    {
     "data": {
      "text/plain": [
       "array([[[115,   0,  94],\n",
       "        [103,  61,  27],\n",
       "        [104,  60,  26],\n",
       "        ...,\n",
       "        [232, 254, 244],\n",
       "        [228, 254, 240],\n",
       "        [236, 237, 222]],\n",
       "\n",
       "       [[123,   0,  94],\n",
       "        [101,  62,  27],\n",
       "        [104,  63,  26],\n",
       "        ...,\n",
       "        [233, 254, 244],\n",
       "        [226, 254, 240],\n",
       "        [239, 240, 222]],\n",
       "\n",
       "       [[115,   0, 112],\n",
       "        [104,  60,  54],\n",
       "        [103,  57,  53],\n",
       "        ...,\n",
       "        [232, 253, 246],\n",
       "        [227, 254, 241],\n",
       "        [235, 237, 226]],\n",
       "\n",
       "       ...,\n",
       "\n",
       "       [[178,   0, 181],\n",
       "        [103,  69,  69],\n",
       "        [ 98,  66,  69],\n",
       "        ...,\n",
       "        [235, 248, 245],\n",
       "        [222, 254, 244],\n",
       "        [243, 248, 234]],\n",
       "\n",
       "       [[180,   0, 182],\n",
       "        [101,  66,  71],\n",
       "        [101,  67,  70],\n",
       "        ...,\n",
       "        [237, 250, 246],\n",
       "        [223, 254, 244],\n",
       "        [243, 249, 235]],\n",
       "\n",
       "       [[  0, 197, 155],\n",
       "        [  0, 199, 160],\n",
       "        [  9, 199, 174],\n",
       "        ...,\n",
       "        [143,  80,  70],\n",
       "        [143,  79,  69],\n",
       "        [143,  70,  65]]], dtype=uint8)"
      ]
     },
     "execution_count": 7,
     "metadata": {},
     "output_type": "execute_result"
    }
   ],
   "source": [
    "img\n"
   ]
  },
  {
   "cell_type": "code",
   "execution_count": 8,
   "metadata": {},
   "outputs": [],
   "source": [
    "cv2.imshow('Lana',img)\n",
    "cv2.waitKey(0)\n",
    "cv2.destroyAllWindows()"
   ]
  },
  {
   "cell_type": "code",
   "execution_count": 9,
   "metadata": {},
   "outputs": [],
   "source": [
    "cv2.namedWindow('Lana',cv2.WINDOW_AUTOSIZE)\n",
    "cv2.imshow('Lana',img)\n",
    "cv2.waitKey(0)\n",
    "cv2.destroyWindow('Lana')"
   ]
  },
  {
   "cell_type": "code",
   "execution_count": null,
   "metadata": {},
   "outputs": [],
   "source": []
  }
 ],
 "metadata": {
  "kernelspec": {
   "display_name": "Python 3",
   "language": "python",
   "name": "python3"
  },
  "language_info": {
   "codemirror_mode": {
    "name": "ipython",
    "version": 3
   },
   "file_extension": ".py",
   "mimetype": "text/x-python",
   "name": "python",
   "nbconvert_exporter": "python",
   "pygments_lexer": "ipython3",
   "version": "3.7.4"
  }
 },
 "nbformat": 4,
 "nbformat_minor": 2
}
