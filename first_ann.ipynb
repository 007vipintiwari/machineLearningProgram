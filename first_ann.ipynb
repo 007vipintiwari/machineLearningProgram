{
 "cells": [
  {
   "cell_type": "code",
   "execution_count": 1,
   "metadata": {},
   "outputs": [],
   "source": [
    "# Importing the libraries\n",
    "import numpy as np\n",
    "import matplotlib.pyplot as plt\n",
    "import pandas as pd"
   ]
  },
  {
   "cell_type": "code",
   "execution_count": 2,
   "metadata": {},
   "outputs": [],
   "source": [
    "dataset = pd.read_csv('Churn_Modelling.csv')"
   ]
  },
  {
   "cell_type": "code",
   "execution_count": 3,
   "metadata": {},
   "outputs": [
    {
     "data": {
      "text/html": [
       "<div>\n",
       "<style scoped>\n",
       "    .dataframe tbody tr th:only-of-type {\n",
       "        vertical-align: middle;\n",
       "    }\n",
       "\n",
       "    .dataframe tbody tr th {\n",
       "        vertical-align: top;\n",
       "    }\n",
       "\n",
       "    .dataframe thead th {\n",
       "        text-align: right;\n",
       "    }\n",
       "</style>\n",
       "<table border=\"1\" class=\"dataframe\">\n",
       "  <thead>\n",
       "    <tr style=\"text-align: right;\">\n",
       "      <th></th>\n",
       "      <th>RowNumber</th>\n",
       "      <th>CustomerId</th>\n",
       "      <th>Surname</th>\n",
       "      <th>CreditScore</th>\n",
       "      <th>Geography</th>\n",
       "      <th>Gender</th>\n",
       "      <th>Age</th>\n",
       "      <th>Tenure</th>\n",
       "      <th>Balance</th>\n",
       "      <th>NumOfProducts</th>\n",
       "      <th>HasCrCard</th>\n",
       "      <th>IsActiveMember</th>\n",
       "      <th>EstimatedSalary</th>\n",
       "      <th>Exited</th>\n",
       "    </tr>\n",
       "  </thead>\n",
       "  <tbody>\n",
       "    <tr>\n",
       "      <td>0</td>\n",
       "      <td>1</td>\n",
       "      <td>15634602</td>\n",
       "      <td>Hargrave</td>\n",
       "      <td>619</td>\n",
       "      <td>France</td>\n",
       "      <td>Female</td>\n",
       "      <td>42</td>\n",
       "      <td>2</td>\n",
       "      <td>0.00</td>\n",
       "      <td>1</td>\n",
       "      <td>1</td>\n",
       "      <td>1</td>\n",
       "      <td>101348.88</td>\n",
       "      <td>1</td>\n",
       "    </tr>\n",
       "    <tr>\n",
       "      <td>1</td>\n",
       "      <td>2</td>\n",
       "      <td>15647311</td>\n",
       "      <td>Hill</td>\n",
       "      <td>608</td>\n",
       "      <td>Spain</td>\n",
       "      <td>Female</td>\n",
       "      <td>41</td>\n",
       "      <td>1</td>\n",
       "      <td>83807.86</td>\n",
       "      <td>1</td>\n",
       "      <td>0</td>\n",
       "      <td>1</td>\n",
       "      <td>112542.58</td>\n",
       "      <td>0</td>\n",
       "    </tr>\n",
       "    <tr>\n",
       "      <td>2</td>\n",
       "      <td>3</td>\n",
       "      <td>15619304</td>\n",
       "      <td>Onio</td>\n",
       "      <td>502</td>\n",
       "      <td>France</td>\n",
       "      <td>Female</td>\n",
       "      <td>42</td>\n",
       "      <td>8</td>\n",
       "      <td>159660.80</td>\n",
       "      <td>3</td>\n",
       "      <td>1</td>\n",
       "      <td>0</td>\n",
       "      <td>113931.57</td>\n",
       "      <td>1</td>\n",
       "    </tr>\n",
       "    <tr>\n",
       "      <td>3</td>\n",
       "      <td>4</td>\n",
       "      <td>15701354</td>\n",
       "      <td>Boni</td>\n",
       "      <td>699</td>\n",
       "      <td>France</td>\n",
       "      <td>Female</td>\n",
       "      <td>39</td>\n",
       "      <td>1</td>\n",
       "      <td>0.00</td>\n",
       "      <td>2</td>\n",
       "      <td>0</td>\n",
       "      <td>0</td>\n",
       "      <td>93826.63</td>\n",
       "      <td>0</td>\n",
       "    </tr>\n",
       "    <tr>\n",
       "      <td>4</td>\n",
       "      <td>5</td>\n",
       "      <td>15737888</td>\n",
       "      <td>Mitchell</td>\n",
       "      <td>850</td>\n",
       "      <td>Spain</td>\n",
       "      <td>Female</td>\n",
       "      <td>43</td>\n",
       "      <td>2</td>\n",
       "      <td>125510.82</td>\n",
       "      <td>1</td>\n",
       "      <td>1</td>\n",
       "      <td>1</td>\n",
       "      <td>79084.10</td>\n",
       "      <td>0</td>\n",
       "    </tr>\n",
       "    <tr>\n",
       "      <td>...</td>\n",
       "      <td>...</td>\n",
       "      <td>...</td>\n",
       "      <td>...</td>\n",
       "      <td>...</td>\n",
       "      <td>...</td>\n",
       "      <td>...</td>\n",
       "      <td>...</td>\n",
       "      <td>...</td>\n",
       "      <td>...</td>\n",
       "      <td>...</td>\n",
       "      <td>...</td>\n",
       "      <td>...</td>\n",
       "      <td>...</td>\n",
       "      <td>...</td>\n",
       "    </tr>\n",
       "    <tr>\n",
       "      <td>9995</td>\n",
       "      <td>9996</td>\n",
       "      <td>15606229</td>\n",
       "      <td>Obijiaku</td>\n",
       "      <td>771</td>\n",
       "      <td>France</td>\n",
       "      <td>Male</td>\n",
       "      <td>39</td>\n",
       "      <td>5</td>\n",
       "      <td>0.00</td>\n",
       "      <td>2</td>\n",
       "      <td>1</td>\n",
       "      <td>0</td>\n",
       "      <td>96270.64</td>\n",
       "      <td>0</td>\n",
       "    </tr>\n",
       "    <tr>\n",
       "      <td>9996</td>\n",
       "      <td>9997</td>\n",
       "      <td>15569892</td>\n",
       "      <td>Johnstone</td>\n",
       "      <td>516</td>\n",
       "      <td>France</td>\n",
       "      <td>Male</td>\n",
       "      <td>35</td>\n",
       "      <td>10</td>\n",
       "      <td>57369.61</td>\n",
       "      <td>1</td>\n",
       "      <td>1</td>\n",
       "      <td>1</td>\n",
       "      <td>101699.77</td>\n",
       "      <td>0</td>\n",
       "    </tr>\n",
       "    <tr>\n",
       "      <td>9997</td>\n",
       "      <td>9998</td>\n",
       "      <td>15584532</td>\n",
       "      <td>Liu</td>\n",
       "      <td>709</td>\n",
       "      <td>France</td>\n",
       "      <td>Female</td>\n",
       "      <td>36</td>\n",
       "      <td>7</td>\n",
       "      <td>0.00</td>\n",
       "      <td>1</td>\n",
       "      <td>0</td>\n",
       "      <td>1</td>\n",
       "      <td>42085.58</td>\n",
       "      <td>1</td>\n",
       "    </tr>\n",
       "    <tr>\n",
       "      <td>9998</td>\n",
       "      <td>9999</td>\n",
       "      <td>15682355</td>\n",
       "      <td>Sabbatini</td>\n",
       "      <td>772</td>\n",
       "      <td>Germany</td>\n",
       "      <td>Male</td>\n",
       "      <td>42</td>\n",
       "      <td>3</td>\n",
       "      <td>75075.31</td>\n",
       "      <td>2</td>\n",
       "      <td>1</td>\n",
       "      <td>0</td>\n",
       "      <td>92888.52</td>\n",
       "      <td>1</td>\n",
       "    </tr>\n",
       "    <tr>\n",
       "      <td>9999</td>\n",
       "      <td>10000</td>\n",
       "      <td>15628319</td>\n",
       "      <td>Walker</td>\n",
       "      <td>792</td>\n",
       "      <td>France</td>\n",
       "      <td>Female</td>\n",
       "      <td>28</td>\n",
       "      <td>4</td>\n",
       "      <td>130142.79</td>\n",
       "      <td>1</td>\n",
       "      <td>1</td>\n",
       "      <td>0</td>\n",
       "      <td>38190.78</td>\n",
       "      <td>0</td>\n",
       "    </tr>\n",
       "  </tbody>\n",
       "</table>\n",
       "<p>10000 rows × 14 columns</p>\n",
       "</div>"
      ],
      "text/plain": [
       "      RowNumber  CustomerId    Surname  CreditScore Geography  Gender  Age  \\\n",
       "0             1    15634602   Hargrave          619    France  Female   42   \n",
       "1             2    15647311       Hill          608     Spain  Female   41   \n",
       "2             3    15619304       Onio          502    France  Female   42   \n",
       "3             4    15701354       Boni          699    France  Female   39   \n",
       "4             5    15737888   Mitchell          850     Spain  Female   43   \n",
       "...         ...         ...        ...          ...       ...     ...  ...   \n",
       "9995       9996    15606229   Obijiaku          771    France    Male   39   \n",
       "9996       9997    15569892  Johnstone          516    France    Male   35   \n",
       "9997       9998    15584532        Liu          709    France  Female   36   \n",
       "9998       9999    15682355  Sabbatini          772   Germany    Male   42   \n",
       "9999      10000    15628319     Walker          792    France  Female   28   \n",
       "\n",
       "      Tenure    Balance  NumOfProducts  HasCrCard  IsActiveMember  \\\n",
       "0          2       0.00              1          1               1   \n",
       "1          1   83807.86              1          0               1   \n",
       "2          8  159660.80              3          1               0   \n",
       "3          1       0.00              2          0               0   \n",
       "4          2  125510.82              1          1               1   \n",
       "...      ...        ...            ...        ...             ...   \n",
       "9995       5       0.00              2          1               0   \n",
       "9996      10   57369.61              1          1               1   \n",
       "9997       7       0.00              1          0               1   \n",
       "9998       3   75075.31              2          1               0   \n",
       "9999       4  130142.79              1          1               0   \n",
       "\n",
       "      EstimatedSalary  Exited  \n",
       "0           101348.88       1  \n",
       "1           112542.58       0  \n",
       "2           113931.57       1  \n",
       "3            93826.63       0  \n",
       "4            79084.10       0  \n",
       "...               ...     ...  \n",
       "9995         96270.64       0  \n",
       "9996        101699.77       0  \n",
       "9997         42085.58       1  \n",
       "9998         92888.52       1  \n",
       "9999         38190.78       0  \n",
       "\n",
       "[10000 rows x 14 columns]"
      ]
     },
     "execution_count": 3,
     "metadata": {},
     "output_type": "execute_result"
    }
   ],
   "source": [
    "dataset"
   ]
  },
  {
   "cell_type": "code",
   "execution_count": 4,
   "metadata": {},
   "outputs": [],
   "source": [
    "X = dataset.iloc[:, 3:13].values\n",
    "y = dataset.iloc[:, 13].values"
   ]
  },
  {
   "cell_type": "code",
   "execution_count": 5,
   "metadata": {},
   "outputs": [
    {
     "data": {
      "text/plain": [
       "array([[619, 'France', 'Female', ..., 1, 1, 101348.88],\n",
       "       [608, 'Spain', 'Female', ..., 0, 1, 112542.58],\n",
       "       [502, 'France', 'Female', ..., 1, 0, 113931.57],\n",
       "       ...,\n",
       "       [709, 'France', 'Female', ..., 0, 1, 42085.58],\n",
       "       [772, 'Germany', 'Male', ..., 1, 0, 92888.52],\n",
       "       [792, 'France', 'Female', ..., 1, 0, 38190.78]], dtype=object)"
      ]
     },
     "execution_count": 5,
     "metadata": {},
     "output_type": "execute_result"
    }
   ],
   "source": [
    "X"
   ]
  },
  {
   "cell_type": "code",
   "execution_count": 6,
   "metadata": {},
   "outputs": [
    {
     "data": {
      "text/plain": [
       "array([1, 0, 1, ..., 1, 1, 0], dtype=int64)"
      ]
     },
     "execution_count": 6,
     "metadata": {},
     "output_type": "execute_result"
    }
   ],
   "source": [
    "y"
   ]
  },
  {
   "cell_type": "code",
   "execution_count": 7,
   "metadata": {},
   "outputs": [
    {
     "name": "stderr",
     "output_type": "stream",
     "text": [
      "C:\\Users\\GodHand\\Anaconda3\\lib\\site-packages\\sklearn\\preprocessing\\_encoders.py:415: FutureWarning: The handling of integer data will change in version 0.22. Currently, the categories are determined based on the range [0, max(values)], while in the future they will be determined based on the unique values.\n",
      "If you want the future behaviour and silence this warning, you can specify \"categories='auto'\".\n",
      "In case you used a LabelEncoder before this OneHotEncoder to convert the categories to integers, then you can now use the OneHotEncoder directly.\n",
      "  warnings.warn(msg, FutureWarning)\n",
      "C:\\Users\\GodHand\\Anaconda3\\lib\\site-packages\\sklearn\\preprocessing\\_encoders.py:451: DeprecationWarning: The 'categorical_features' keyword is deprecated in version 0.20 and will be removed in 0.22. You can use the ColumnTransformer instead.\n",
      "  \"use the ColumnTransformer instead.\", DeprecationWarning)\n"
     ]
    }
   ],
   "source": [
    "# Encoding categorical data\n",
    "from sklearn.preprocessing import LabelEncoder, OneHotEncoder\n",
    "labelencoder_X_1 = LabelEncoder()\n",
    "X[:, 1] = labelencoder_X_1.fit_transform(X[:, 1])\n",
    "labelencoder_X_2 = LabelEncoder()\n",
    "X[:, 2] = labelencoder_X_2.fit_transform(X[:, 2])\n",
    "onehotencoder = OneHotEncoder(categorical_features = [1])\n",
    "X = onehotencoder.fit_transform(X).toarray()\n",
    "X = X[:, 1:]"
   ]
  },
  {
   "cell_type": "code",
   "execution_count": 8,
   "metadata": {},
   "outputs": [],
   "source": [
    "# Splitting the dataset into the Training set and Test set\n",
    "from sklearn.model_selection import train_test_split\n",
    "X_train, X_test, y_train, y_test = train_test_split(X, y, test_size = 0.2, random_state = 0)"
   ]
  },
  {
   "cell_type": "code",
   "execution_count": 9,
   "metadata": {},
   "outputs": [],
   "source": [
    "# Feature Scaling\n",
    "from sklearn.preprocessing import StandardScaler\n",
    "sc = StandardScaler()\n",
    "X_train = sc.fit_transform(X_train)\n",
    "X_test = sc.transform(X_test)"
   ]
  },
  {
   "cell_type": "code",
   "execution_count": 10,
   "metadata": {},
   "outputs": [],
   "source": [
    "#let's build ANN"
   ]
  },
  {
   "cell_type": "code",
   "execution_count": 11,
   "metadata": {},
   "outputs": [
    {
     "name": "stderr",
     "output_type": "stream",
     "text": [
      "Using TensorFlow backend.\n"
     ]
    }
   ],
   "source": [
    "import keras"
   ]
  },
  {
   "cell_type": "code",
   "execution_count": 12,
   "metadata": {},
   "outputs": [],
   "source": [
    "from keras.models import Sequential\n",
    "from keras.layers import Dense"
   ]
  },
  {
   "cell_type": "code",
   "execution_count": 13,
   "metadata": {},
   "outputs": [],
   "source": [
    "#initialising\n",
    "classifier = Sequential()"
   ]
  },
  {
   "cell_type": "code",
   "execution_count": 14,
   "metadata": {},
   "outputs": [],
   "source": [
    "# Adding the input layer and the first hidden layer\n",
    "classifier.add(Dense(units = 6, kernel_initializer = 'uniform', activation = 'relu', input_dim = 11))"
   ]
  },
  {
   "cell_type": "code",
   "execution_count": 15,
   "metadata": {},
   "outputs": [],
   "source": [
    "# Adding the second hidden layer\n",
    "classifier.add(Dense(units = 6, kernel_initializer = 'uniform', activation = 'relu'))"
   ]
  },
  {
   "cell_type": "code",
   "execution_count": 16,
   "metadata": {},
   "outputs": [],
   "source": [
    "# Adding the output layer\n",
    "classifier.add(Dense(units = 1, kernel_initializer = 'uniform', activation = 'sigmoid'))"
   ]
  },
  {
   "cell_type": "code",
   "execution_count": 17,
   "metadata": {},
   "outputs": [],
   "source": [
    "#compiling ANN\n",
    "classifier.compile(optimizer = 'adam',loss = 'binary_crossentropy',metrics = ['accuracy'])"
   ]
  },
  {
   "cell_type": "code",
   "execution_count": 18,
   "metadata": {},
   "outputs": [
    {
     "name": "stdout",
     "output_type": "stream",
     "text": [
      "Epoch 1/100\n",
      "8000/8000 [==============================] - 2s 231us/step - loss: 0.4913 - accuracy: 0.7959\n",
      "Epoch 2/100\n",
      "8000/8000 [==============================] - 1s 161us/step - loss: 0.4286 - accuracy: 0.7960\n",
      "Epoch 3/100\n",
      "8000/8000 [==============================] - 1s 182us/step - loss: 0.4232 - accuracy: 0.7960\n",
      "Epoch 4/100\n",
      "8000/8000 [==============================] - 1s 153us/step - loss: 0.4184 - accuracy: 0.8134\n",
      "Epoch 5/100\n",
      "8000/8000 [==============================] - 1s 152us/step - loss: 0.4148 - accuracy: 0.8284\n",
      "Epoch 6/100\n",
      "8000/8000 [==============================] - 1s 152us/step - loss: 0.4111 - accuracy: 0.8321\n",
      "Epoch 7/100\n",
      "8000/8000 [==============================] - 2s 188us/step - loss: 0.4082 - accuracy: 0.8329\n",
      "Epoch 8/100\n",
      "8000/8000 [==============================] - 1s 165us/step - loss: 0.4060 - accuracy: 0.8311\n",
      "Epoch 9/100\n",
      "8000/8000 [==============================] - 1s 152us/step - loss: 0.4046 - accuracy: 0.8345\n",
      "Epoch 10/100\n",
      "8000/8000 [==============================] - 1s 157us/step - loss: 0.4032 - accuracy: 0.8350\n",
      "Epoch 11/100\n",
      "8000/8000 [==============================] - 1s 163us/step - loss: 0.4021 - accuracy: 0.8346\n",
      "Epoch 12/100\n",
      "8000/8000 [==============================] - 1s 159us/step - loss: 0.4016 - accuracy: 0.8354\n",
      "Epoch 13/100\n",
      "8000/8000 [==============================] - 1s 165us/step - loss: 0.4006 - accuracy: 0.8354\n",
      "Epoch 14/100\n",
      "8000/8000 [==============================] - 1s 164us/step - loss: 0.4000 - accuracy: 0.8330\n",
      "Epoch 15/100\n",
      "8000/8000 [==============================] - 1s 163us/step - loss: 0.3993 - accuracy: 0.8356\n",
      "Epoch 16/100\n",
      "8000/8000 [==============================] - 1s 176us/step - loss: 0.3989 - accuracy: 0.8361\n",
      "Epoch 17/100\n",
      "8000/8000 [==============================] - 1s 184us/step - loss: 0.3985 - accuracy: 0.8353\n",
      "Epoch 18/100\n",
      "8000/8000 [==============================] - 2s 199us/step - loss: 0.3982 - accuracy: 0.8350\n",
      "Epoch 19/100\n",
      "8000/8000 [==============================] - 2s 202us/step - loss: 0.3978 - accuracy: 0.8349\n",
      "Epoch 20/100\n",
      "8000/8000 [==============================] - 2s 192us/step - loss: 0.3977 - accuracy: 0.8364\n",
      "Epoch 21/100\n",
      "8000/8000 [==============================] - 2s 253us/step - loss: 0.3970 - accuracy: 0.8356\n",
      "Epoch 22/100\n",
      "8000/8000 [==============================] - 1s 177us/step - loss: 0.3972 - accuracy: 0.8329\n",
      "Epoch 23/100\n",
      "8000/8000 [==============================] - 1s 172us/step - loss: 0.3971 - accuracy: 0.8349\n",
      "Epoch 24/100\n",
      "8000/8000 [==============================] - 1s 173us/step - loss: 0.3963 - accuracy: 0.8351\n",
      "Epoch 25/100\n",
      "8000/8000 [==============================] - 1s 173us/step - loss: 0.3964 - accuracy: 0.8353\n",
      "Epoch 26/100\n",
      "8000/8000 [==============================] - 1s 173us/step - loss: 0.3959 - accuracy: 0.8351\n",
      "Epoch 27/100\n",
      "8000/8000 [==============================] - 1s 172us/step - loss: 0.3951 - accuracy: 0.8331\n",
      "Epoch 28/100\n",
      "8000/8000 [==============================] - 1s 174us/step - loss: 0.3961 - accuracy: 0.8353\n",
      "Epoch 29/100\n",
      "8000/8000 [==============================] - 1s 185us/step - loss: 0.3954 - accuracy: 0.8354\n",
      "Epoch 30/100\n",
      "8000/8000 [==============================] - 2s 214us/step - loss: 0.3952 - accuracy: 0.8341\n",
      "Epoch 31/100\n",
      "8000/8000 [==============================] - 1s 184us/step - loss: 0.3958 - accuracy: 0.8356\n",
      "Epoch 32/100\n",
      "8000/8000 [==============================] - 1s 171us/step - loss: 0.3957 - accuracy: 0.8374\n",
      "Epoch 33/100\n",
      "8000/8000 [==============================] - 1s 178us/step - loss: 0.3954 - accuracy: 0.8347\n",
      "Epoch 34/100\n",
      "8000/8000 [==============================] - 1s 171us/step - loss: 0.3948 - accuracy: 0.8342\n",
      "Epoch 35/100\n",
      "8000/8000 [==============================] - 1s 170us/step - loss: 0.3951 - accuracy: 0.8356\n",
      "Epoch 36/100\n",
      "8000/8000 [==============================] - 1s 171us/step - loss: 0.3952 - accuracy: 0.8344\n",
      "Epoch 37/100\n",
      "8000/8000 [==============================] - 1s 174us/step - loss: 0.3952 - accuracy: 0.8345\n",
      "Epoch 38/100\n",
      "8000/8000 [==============================] - 1s 172us/step - loss: 0.3953 - accuracy: 0.8353\n",
      "Epoch 39/100\n",
      "8000/8000 [==============================] - 2s 216us/step - loss: 0.3944 - accuracy: 0.8345\n",
      "Epoch 40/100\n",
      "8000/8000 [==============================] - 2s 255us/step - loss: 0.3944 - accuracy: 0.8369\n",
      "Epoch 41/100\n",
      "8000/8000 [==============================] - 2s 269us/step - loss: 0.3949 - accuracy: 0.8342\n",
      "Epoch 42/100\n",
      "8000/8000 [==============================] - 2s 229us/step - loss: 0.3946 - accuracy: 0.8341\n",
      "Epoch 43/100\n",
      "8000/8000 [==============================] - 2s 235us/step - loss: 0.3944 - accuracy: 0.8366\n",
      "Epoch 44/100\n",
      "8000/8000 [==============================] - 2s 229us/step - loss: 0.3941 - accuracy: 0.8354\n",
      "Epoch 45/100\n",
      "8000/8000 [==============================] - 2s 226us/step - loss: 0.3944 - accuracy: 0.8357\n",
      "Epoch 46/100\n",
      "8000/8000 [==============================] - 2s 228us/step - loss: 0.3941 - accuracy: 0.8356\n",
      "Epoch 47/100\n",
      "8000/8000 [==============================] - 2s 223us/step - loss: 0.3949 - accuracy: 0.8364\n",
      "Epoch 48/100\n",
      "8000/8000 [==============================] - 2s 254us/step - loss: 0.3940 - accuracy: 0.8366\n",
      "Epoch 49/100\n",
      "8000/8000 [==============================] - 2s 251us/step - loss: 0.3946 - accuracy: 0.8345\n",
      "Epoch 50/100\n",
      "8000/8000 [==============================] - 1s 187us/step - loss: 0.3944 - accuracy: 0.8361\n",
      "Epoch 51/100\n",
      "8000/8000 [==============================] - 1s 172us/step - loss: 0.3943 - accuracy: 0.8351\n",
      "Epoch 52/100\n",
      "8000/8000 [==============================] - 1s 173us/step - loss: 0.3940 - accuracy: 0.8357\n",
      "Epoch 53/100\n",
      "8000/8000 [==============================] - 1s 175us/step - loss: 0.3941 - accuracy: 0.8350\n",
      "Epoch 54/100\n",
      "8000/8000 [==============================] - 1s 172us/step - loss: 0.3941 - accuracy: 0.8366\n",
      "Epoch 55/100\n",
      "8000/8000 [==============================] - 1s 174us/step - loss: 0.3940 - accuracy: 0.8365\n",
      "Epoch 56/100\n",
      "8000/8000 [==============================] - 1s 178us/step - loss: 0.3941 - accuracy: 0.8353\n",
      "Epoch 57/100\n",
      "8000/8000 [==============================] - 1s 172us/step - loss: 0.3943 - accuracy: 0.8364\n",
      "Epoch 58/100\n",
      "8000/8000 [==============================] - 1s 173us/step - loss: 0.3939 - accuracy: 0.8380\n",
      "Epoch 59/100\n",
      "8000/8000 [==============================] - 2s 190us/step - loss: 0.3938 - accuracy: 0.8369\n",
      "Epoch 60/100\n",
      "8000/8000 [==============================] - 2s 208us/step - loss: 0.3932 - accuracy: 0.8364\n",
      "Epoch 61/100\n",
      "8000/8000 [==============================] - 1s 171us/step - loss: 0.3942 - accuracy: 0.8361\n",
      "Epoch 62/100\n",
      "8000/8000 [==============================] - 1s 172us/step - loss: 0.3940 - accuracy: 0.8364\n",
      "Epoch 63/100\n",
      "8000/8000 [==============================] - 1s 170us/step - loss: 0.3937 - accuracy: 0.8361\n",
      "Epoch 64/100\n",
      "8000/8000 [==============================] - 1s 172us/step - loss: 0.3937 - accuracy: 0.8363\n",
      "Epoch 65/100\n",
      "8000/8000 [==============================] - 1s 172us/step - loss: 0.3942 - accuracy: 0.8361\n",
      "Epoch 66/100\n",
      "8000/8000 [==============================] - 1s 179us/step - loss: 0.3936 - accuracy: 0.8384\n",
      "Epoch 67/100\n",
      "8000/8000 [==============================] - 1s 171us/step - loss: 0.3934 - accuracy: 0.8361\n",
      "Epoch 68/100\n",
      "8000/8000 [==============================] - 1s 169us/step - loss: 0.3937 - accuracy: 0.8349\n",
      "Epoch 69/100\n",
      "8000/8000 [==============================] - 1s 175us/step - loss: 0.3936 - accuracy: 0.8366\n",
      "Epoch 70/100\n",
      "8000/8000 [==============================] - 1s 179us/step - loss: 0.3935 - accuracy: 0.8365\n",
      "Epoch 71/100\n",
      "8000/8000 [==============================] - 2s 211us/step - loss: 0.3937 - accuracy: 0.8357\n",
      "Epoch 72/100\n",
      "8000/8000 [==============================] - 1s 183us/step - loss: 0.3938 - accuracy: 0.8367\n",
      "Epoch 73/100\n",
      "8000/8000 [==============================] - 1s 175us/step - loss: 0.3933 - accuracy: 0.8357\n",
      "Epoch 74/100\n",
      "8000/8000 [==============================] - 1s 175us/step - loss: 0.3932 - accuracy: 0.8374\n",
      "Epoch 75/100\n",
      "8000/8000 [==============================] - 1s 173us/step - loss: 0.3941 - accuracy: 0.8351\n",
      "Epoch 76/100\n",
      "8000/8000 [==============================] - 1s 172us/step - loss: 0.3940 - accuracy: 0.8375\n",
      "Epoch 77/100\n",
      "8000/8000 [==============================] - 1s 172us/step - loss: 0.3934 - accuracy: 0.8370\n",
      "Epoch 78/100\n"
     ]
    },
    {
     "name": "stdout",
     "output_type": "stream",
     "text": [
      "8000/8000 [==============================] - 1s 169us/step - loss: 0.3934 - accuracy: 0.8351\n",
      "Epoch 79/100\n",
      "8000/8000 [==============================] - 1s 167us/step - loss: 0.3941 - accuracy: 0.8372\n",
      "Epoch 80/100\n",
      "8000/8000 [==============================] - 1s 168us/step - loss: 0.3927 - accuracy: 0.8367\n",
      "Epoch 81/100\n",
      "8000/8000 [==============================] - 1s 168us/step - loss: 0.3938 - accuracy: 0.8353\n",
      "Epoch 82/100\n",
      "8000/8000 [==============================] - 2s 196us/step - loss: 0.3937 - accuracy: 0.8365\n",
      "Epoch 83/100\n",
      "8000/8000 [==============================] - 2s 197us/step - loss: 0.3933 - accuracy: 0.8369\n",
      "Epoch 84/100\n",
      "8000/8000 [==============================] - 1s 169us/step - loss: 0.3937 - accuracy: 0.8378\n",
      "Epoch 85/100\n",
      "8000/8000 [==============================] - 1s 169us/step - loss: 0.3935 - accuracy: 0.8371\n",
      "Epoch 86/100\n",
      "8000/8000 [==============================] - 1s 168us/step - loss: 0.3937 - accuracy: 0.8381\n",
      "Epoch 87/100\n",
      "8000/8000 [==============================] - 1s 166us/step - loss: 0.3932 - accuracy: 0.8365\n",
      "Epoch 88/100\n",
      "8000/8000 [==============================] - 1s 168us/step - loss: 0.3932 - accuracy: 0.8374\n",
      "Epoch 89/100\n",
      "8000/8000 [==============================] - 1s 183us/step - loss: 0.3935 - accuracy: 0.8359\n",
      "Epoch 90/100\n",
      "8000/8000 [==============================] - 2s 203us/step - loss: 0.3938 - accuracy: 0.8389\n",
      "Epoch 91/100\n",
      "8000/8000 [==============================] - 2s 204us/step - loss: 0.3935 - accuracy: 0.8374\n",
      "Epoch 92/100\n",
      "8000/8000 [==============================] - 1s 182us/step - loss: 0.3932 - accuracy: 0.8364\n",
      "Epoch 93/100\n",
      "8000/8000 [==============================] - 2s 212us/step - loss: 0.3935 - accuracy: 0.8372\n",
      "Epoch 94/100\n",
      "8000/8000 [==============================] - 2s 189us/step - loss: 0.3928 - accuracy: 0.8369\n",
      "Epoch 95/100\n",
      "8000/8000 [==============================] - 1s 170us/step - loss: 0.3929 - accuracy: 0.8366\n",
      "Epoch 96/100\n",
      "8000/8000 [==============================] - 1s 179us/step - loss: 0.3934 - accuracy: 0.8372\n",
      "Epoch 97/100\n",
      "8000/8000 [==============================] - 1s 179us/step - loss: 0.3931 - accuracy: 0.8372\n",
      "Epoch 98/100\n",
      "8000/8000 [==============================] - 1s 185us/step - loss: 0.3931 - accuracy: 0.8363\n",
      "Epoch 99/100\n",
      "8000/8000 [==============================] - 1s 181us/step - loss: 0.3934 - accuracy: 0.8366\n",
      "Epoch 100/100\n",
      "8000/8000 [==============================] - 1s 180us/step - loss: 0.3932 - accuracy: 0.8359\n"
     ]
    },
    {
     "data": {
      "text/plain": [
       "<keras.callbacks.callbacks.History at 0x1e43015c888>"
      ]
     },
     "execution_count": 18,
     "metadata": {},
     "output_type": "execute_result"
    }
   ],
   "source": [
    "# Fitting the ANN to the Training set\n",
    "classifier.fit(X_train,y_train,batch_size = 10,epochs = 100 )"
   ]
  },
  {
   "cell_type": "code",
   "execution_count": 19,
   "metadata": {},
   "outputs": [],
   "source": [
    "y_predict = classifier.predict(X_test)"
   ]
  },
  {
   "cell_type": "code",
   "execution_count": 20,
   "metadata": {},
   "outputs": [
    {
     "data": {
      "text/plain": [
       "array([[0.18755409],\n",
       "       [0.28990966],\n",
       "       [0.20322186],\n",
       "       ...,\n",
       "       [0.16453749],\n",
       "       [0.11483496],\n",
       "       [0.14282615]], dtype=float32)"
      ]
     },
     "execution_count": 20,
     "metadata": {},
     "output_type": "execute_result"
    }
   ],
   "source": [
    "y_predict"
   ]
  },
  {
   "cell_type": "code",
   "execution_count": 21,
   "metadata": {},
   "outputs": [],
   "source": [
    "y_predict = (y_predict > 0.5)"
   ]
  },
  {
   "cell_type": "code",
   "execution_count": 22,
   "metadata": {},
   "outputs": [],
   "source": [
    "from sklearn.metrics import confusion_matrix\n",
    "cm = confusion_matrix(y_test,y_predict)"
   ]
  },
  {
   "cell_type": "code",
   "execution_count": 23,
   "metadata": {},
   "outputs": [
    {
     "data": {
      "text/plain": [
       "array([[1543,   52],\n",
       "       [ 259,  146]], dtype=int64)"
      ]
     },
     "execution_count": 23,
     "metadata": {},
     "output_type": "execute_result"
    }
   ],
   "source": [
    "cm"
   ]
  },
  {
   "cell_type": "code",
   "execution_count": 24,
   "metadata": {},
   "outputs": [
    {
     "data": {
      "text/plain": [
       "0.84"
      ]
     },
     "execution_count": 24,
     "metadata": {},
     "output_type": "execute_result"
    }
   ],
   "source": [
    "(1554 + 126)/2000\n"
   ]
  },
  {
   "cell_type": "code",
   "execution_count": 25,
   "metadata": {},
   "outputs": [
    {
     "data": {
      "text/plain": [
       "numpy.ndarray"
      ]
     },
     "execution_count": 25,
     "metadata": {},
     "output_type": "execute_result"
    }
   ],
   "source": [
    "type(X_train)"
   ]
  },
  {
   "cell_type": "code",
   "execution_count": 26,
   "metadata": {},
   "outputs": [],
   "source": [
    "from keras.wrappers.scikit_learn import KerasClassifier\n",
    "from sklearn.model_selection import cross_val_score\n",
    "from keras.models import Sequential\n",
    "from keras.layers import Dense"
   ]
  },
  {
   "cell_type": "code",
   "execution_count": null,
   "metadata": {},
   "outputs": [],
   "source": [
    "def build_classifier():\n",
    "    classifier = Sequential()\n",
    "    classifier.add(Dense(units = 6, kernel_initializer = 'uniform', activation = 'relu', input_dim = 11))\n",
    "    classifier.add(Dense(units = 6, kernel_initializer = 'uniform', activation = 'relu'))\n",
    "    classifier.add(Dense(units = 1, kernel_initializer = 'uniform', activation = 'sigmoid'))\n",
    "    classifier.compile(optimizer = 'adam',loss = 'binary_crossentropy',metrics = ['accuracy'])\n",
    "    return classifier\n",
    "classifier = KerasClassifier(build_fn = build_classifier,batch_size = 10,epochs = 100)\n",
    "accuracies = cross_val_score(estimator = classifier,X = X_train ,y = y_train,cv = 10,n_jobs = -1)"
   ]
  },
  {
   "cell_type": "code",
   "execution_count": null,
   "metadata": {},
   "outputs": [],
   "source": [
    "mean = accuracies.mean()"
   ]
  },
  {
   "cell_type": "code",
   "execution_count": null,
   "metadata": {},
   "outputs": [],
   "source": [
    "var = accuracies.std()"
   ]
  },
  {
   "cell_type": "code",
   "execution_count": null,
   "metadata": {},
   "outputs": [],
   "source": []
  }
 ],
 "metadata": {
  "kernelspec": {
   "display_name": "Python 3",
   "language": "python",
   "name": "python3"
  },
  "language_info": {
   "codemirror_mode": {
    "name": "ipython",
    "version": 3
   },
   "file_extension": ".py",
   "mimetype": "text/x-python",
   "name": "python",
   "nbconvert_exporter": "python",
   "pygments_lexer": "ipython3",
   "version": "3.7.4"
  }
 },
 "nbformat": 4,
 "nbformat_minor": 2
}
