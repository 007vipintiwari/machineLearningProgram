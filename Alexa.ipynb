{
 "cells": [
  {
   "cell_type": "code",
   "execution_count": 1,
   "metadata": {},
   "outputs": [],
   "source": [
    "import speech_recognition as sr"
   ]
  },
  {
   "cell_type": "code",
   "execution_count": 2,
   "metadata": {},
   "outputs": [],
   "source": [
    "listener = sr.Recognizer()        "
   ]
  },
  {
   "cell_type": "code",
   "execution_count": 26,
   "metadata": {},
   "outputs": [
    {
     "name": "stdout",
     "output_type": "stream",
     "text": [
      "listening\n",
      "Not working\n"
     ]
    }
   ],
   "source": [
    "try:\n",
    "    with sr.Microphone(device_index = 1) as source:\n",
    "        print(\"listening\")\n",
    "        voice = listener.listen(source)\n",
    "        command = listener.recognize_google(voice)\n",
    "        command = command.lower()\n",
    "        if 'alexa' in command:\n",
    "            print(command)\n",
    "except:\n",
    "    print(\"Not working\")"
   ]
  },
  {
   "cell_type": "code",
   "execution_count": 15,
   "metadata": {},
   "outputs": [
    {
     "data": {
      "text/plain": [
       "['Microsoft Sound Mapper - Input',\n",
       " 'Microphone (Conexant SmartAudio',\n",
       " 'Microsoft Sound Mapper - Output',\n",
       " 'Speakers (Conexant SmartAudio H',\n",
       " 'Internal AUX Jack (DroidCam Vir',\n",
       " 'Primary Sound Capture Driver',\n",
       " 'Microphone (Conexant SmartAudio HD)',\n",
       " 'Primary Sound Driver',\n",
       " 'Speakers (Conexant SmartAudio HD)',\n",
       " 'Internal AUX Jack (DroidCam Virtual Audio)',\n",
       " 'Speakers (Conexant SmartAudio HD)',\n",
       " 'Microphone (Conexant SmartAudio HD)',\n",
       " 'Speakers (Conexant HD Audio output)',\n",
       " 'Microphone (Conexant HD Audio capture)',\n",
       " 'MIDI (DroidCam Audio)',\n",
       " 'Output (DroidCam Audio)']"
      ]
     },
     "execution_count": 15,
     "metadata": {},
     "output_type": "execute_result"
    }
   ],
   "source": [
    "sr.Microphone.list_microphone_names()"
   ]
  },
  {
   "cell_type": "code",
   "execution_count": null,
   "metadata": {},
   "outputs": [],
   "source": []
  }
 ],
 "metadata": {
  "kernelspec": {
   "display_name": "Python 3",
   "language": "python",
   "name": "python3"
  },
  "language_info": {
   "codemirror_mode": {
    "name": "ipython",
    "version": 3
   },
   "file_extension": ".py",
   "mimetype": "text/x-python",
   "name": "python",
   "nbconvert_exporter": "python",
   "pygments_lexer": "ipython3",
   "version": "3.7.4"
  }
 },
 "nbformat": 4,
 "nbformat_minor": 2
}
