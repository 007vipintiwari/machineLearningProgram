{
 "cells": [
  {
   "cell_type": "code",
   "execution_count": 1,
   "metadata": {},
   "outputs": [
    {
     "name": "stdout",
     "output_type": "stream",
     "text": [
      "pygame 1.9.6\n",
      "Hello from the pygame community. https://www.pygame.org/contribute.html\n"
     ]
    }
   ],
   "source": [
    "import pygame"
   ]
  },
  {
   "cell_type": "code",
   "execution_count": 2,
   "metadata": {},
   "outputs": [],
   "source": [
    "import tkinter as tkt"
   ]
  },
  {
   "cell_type": "code",
   "execution_count": 3,
   "metadata": {},
   "outputs": [],
   "source": [
    "from tkinter.filedialog import askdirectory"
   ]
  },
  {
   "cell_type": "code",
   "execution_count": 4,
   "metadata": {},
   "outputs": [],
   "source": [
    "import os"
   ]
  },
  {
   "cell_type": "code",
   "execution_count": 5,
   "metadata": {},
   "outputs": [],
   "source": [
    "musicPlayer = tkt.Tk()"
   ]
  },
  {
   "cell_type": "code",
   "execution_count": 6,
   "metadata": {},
   "outputs": [
    {
     "data": {
      "text/plain": [
       "''"
      ]
     },
     "execution_count": 6,
     "metadata": {},
     "output_type": "execute_result"
    }
   ],
   "source": [
    "musicPlayer.title(\"Music Player\")"
   ]
  },
  {
   "cell_type": "code",
   "execution_count": 7,
   "metadata": {},
   "outputs": [
    {
     "data": {
      "text/plain": [
       "''"
      ]
     },
     "execution_count": 7,
     "metadata": {},
     "output_type": "execute_result"
    }
   ],
   "source": [
    "musicPlayer.geometry(\"450x350\")"
   ]
  },
  {
   "cell_type": "code",
   "execution_count": 8,
   "metadata": {},
   "outputs": [
    {
     "name": "stdout",
     "output_type": "stream",
     "text": [
      "['A-Kay_-_Kuriyan_Ya_Maape__feat.mp3', 'Aaj_Raat_Ka_Scene_-_Badshah_-_128Kbps_-_www.DjPunjab.Com.mp3', 'AK 47 - Guru Randhawa (DJJOhAL.Com).mp3', 'Akh Laal Rakhda - Deep Karan (DJJOhAL.Com).mp3', 'AlbumArtSmall.jpg', 'AlbumArt_{DA846AB5-5688-45FC-9522-DBB64D17B436}_Large.jpg', 'AlbumArt_{DA846AB5-5688-45FC-9522-DBB64D17B436}_Small.jpg', 'Bullet__Aah_Chak_2016__-_Money_Aujla- Mr-Punjab.Com .mp3', 'Call Aundi-(Mr-Jatt.com).mp3', 'Car Mein Music Baja - Neha Kakkar   Tony Kakkar (DJJOhAL.Com).mp3', 'Chal_Koi_Na_-_Kambi_-_320Kbps_-_www.DjPunjab.Com.mp3', 'chandigarh_waliye_-_www.djpunjab.com.mp3', 'Channge Time Att - A Kay (DJJOhAL.Com).mp3', 'Char Din - Sandeep Brar (DJJOhAL.Com).mp3', 'Charda_Siyaal_-_Mankirt_Aulakh- Mr-Punjab.Com .mp3', 'Chardi Jawani - Amit Dev   Kuwar Virk (DJJOhAL.Com).mp3', 'Charso Bees (420)-(Mr-Jatt.com).mp3', 'Chete_Karda_-_Resham_Singh_Anmol_-_128Kbps_-_www.DjPunjab.Com.mp3', 'CHILLAM - Rossh (DJJOhAL.Com).mp3', 'Chitta Return - Jaggi Sidhu (DJJOhAL.Com).mp3', 'Chull - Fazilpuria Ft. Badshah (itunes Rip) (DjPunjab.Com)000.mp3', 'Chura Liya Hai Tumne (Millind Gaba) 320kbps-(HeroMaza.In).mp3', 'Clipp - Gagandeep Sandhu (DJJOhAL.Com).mp3', 'Creez_-_Tarsem_Jassar_-_128Kbps_-_www.DjPunjab.Com.mp3', 'Daaru Party - Millind Gaba (DJJOhAL.Com).mp3', 'Daru - Harry Dhanoa (DJJOhAL.Com).mp3', 'Daru Mukjeh Ft Mickey Singh - Diljit Dosanjh (DJJOhAL.Com).mp3', 'Daru On The House - JSL Singh  Harshit Tomar (DJJOhAL.Com).mp3', 'desktop.ini', 'Drop - Mehtab Virk (DJJOhAL.Com).mp3', 'DutyRaagHits.Com.mp3', 'Dynamite_-_Jazzy_B_-_128Kbps_-_www.DjPunjab.Com.mp3', 'EK_Mulaqat_-_(www.DjRaag.Net).mp3', 'End Ft. Pardhan - A Kay (DJJOhAL.Com).mp3', 'End Jattiye - Dilpreet Dhillon (DJJOhAL.Com).mp3', 'Etwaar-(Mr-Jatt.com).mp3', 'Evergreen - Ninja (DJJOhAL.Com).mp3', 'Fateh - Gagan Sidhu   Kuwar Virk (DJJOhAL.Com).mp3', 'Fetty_Wap_My_Way_Remix_Drake_CDQ.mp3', 'Fire Bolde Ft. Inder-Kaur - Dilpreet Dhillon (DJJOhAL.Com).mp3', 'Fit_Fit_-_Tarsem_Jassar_-_128Kbps_-_www.DjPunjab.Com.mp3', 'Flying Cars - Ninja (DJJOhAL.Com).mp3', 'Folder.jpg', 'Follow (feat. Whistle) - Inder Chahal (DJJOhAL.Com).mp3', 'Freak (feat. Jay Sean   Juggy D) - Rishi Rich Project (DJJOhAL.Com).mp3', 'Gabhru 2 Ft Aman Hayer - Kinder Deol (DJJOhAL.Com).mp3', 'Gabru - Aarsh Benipal (DJJOhAL.Com).mp3', 'Gabru 2 - J Star (DJJOhAL.Com).mp3', 'Gabru Di Hik - Amar Sajaalpuria (DJJOhAL.Com).mp3', 'Gaddi_Meri_Fast_And_Furious_-_Bohemia_-_320Kbps_-_www.DjPunjab.Com.mp3', 'Gal Jattan Wali - Ninja (DJJOhAL.Com).mp3', 'Gal Kithe - Kulwinder Billa (DJJOhAL.Com).mp3', 'Gallan Mithiyan - Mankirt Aulakh (DJJOhAL.Com).mp3', 'Gallan_Sachiya_-_Garry_Sandhu_-_48Kbps_-_www.DjPunjab.Com.mp3', 'Game Time Ft Raxstar - Bohemia   More (DJJOhAL.Com).mp3', 'Gangster Love - Alfaaz Kamal Khaira (DJJOhAL.Com).mp3', 'Gani - Manni Sandhu   Akhil (DJJOhAL.Com).mp3', 'GF_BF_-_Gurinder_Seagal_-_320Kbps_-_www.DjPunjab.Com.mp3', 'Ghaint_Bande_-_Tarsem_Jassar_-_128Kbps_-_www.DjPunjab.Com.mp3', 'Ghar Di Sharaab-(Mr-Jatt.com).mp3', 'Girl_Ok_-_A-Kay_-_320Kbps_-_www.DjPunjab.Com.mp3', 'Gulab - Dilpreet Dhillon  Goldy (DJJOhAL.Com).mp3', 'Gutt Naar Di - Kulwinder Billa (DJJOhAL.Com).mp3', 'Haan Kargi - Ammy Virk (DJJOhAL.Com).mp3', 'Harley_-_Gagan_Sandhu_-_48Kbps_-_www.DjPunjab.Com.mp3', 'Harley_7_Lakh_Da_-_Mankirt_Aulakh_-_128Kbps_-_www.DjPunjab.Com.mp3', 'Hashtag - Sharry Mann (DJJOhAL.Com).mp3', 'Hattrick_-_Imran_Khan- Mr-Punjab.Com .mp3', 'Hik_Vich_Jaan_-_Gippy_Grewal_-_128Kbps_-_www.DjPunjab.Com.mp3', 'Hollywood_Girl_-_Shar_S_-_320Kbps_-_www.DjPunjab.Com.mp3', 'Hornn Blow (iTunes) - Hardy Sandhu (DJJOhAL.Com).mp3', 'I Am Single - Harry Bawa (DJJOhAL.Com).mp3', 'If I Luv U - Roshan Prince (DJJOhAL.Com).mp3', 'Ignore_List_-_Kamal_Khaira__-_320Kbps_-_www.DjPunjab.Com.mp3', 'Ikk_Kudi_-_Diljit_Dosanjh_-_320Kbps_-_www.DjPunjab.Com.mp3', 'Jatti_De_Nain_-_Roshan_Prince_-_128Kbps_-_www.DjPunjab.Com.mp3', 'Jhanjar - Dilpreet Dhillon (DJJOhAL.Com).mp3', 'Jigra Daler Ft. JASSI X - Maninder Batth (DJJOhAL.Com).mp3', 'Kaa Bole Banere Te - A Kay (DJJOhAL.Com).mp3', 'Kaali Camaro - Amrit Maan (DJJOhAL.Com).mp3', 'Kal Hoi Wardaat - Kindaa (DJJOhAL.Com).mp3', 'Kangna Ft. KUWAR VIRK - Preet Harpal (DJJOhAL.Com).mp3', 'Katal_Maaf_-_Gurjazz- Mr-Punjab.Com .mp3', 'KhaabRaag.Me.mp3', 'kingsmusicrappzz_shuruaat.mp3', 'Kudian_Da_Stand_-_Jass_Bajwa_-_128Kbps_-_www.DjPunjab.Com.mp3', 'Kundi_Muchh_-_Tarsem_Jassar_-_128Kbps_-_www.DjPunjab.Com.mp3', 'Kurte Pajame - Kulbir Jhinjer (DJJOhAL.Com).mp3', 'LG Da Rond - Veet Baljit (DJJOhAL.Com).mp3', 'Loafer - Karan Benipal (DJJOhAL.Com).mp3', 'Lonely_-_Girik_Aman_-_128Kbps_-_www.DjPunjab.Com.mp3', 'Lover Boy - Badshah   Shrey Singhal (DJJOhAL.Com).mp3', 'Make_My_Love_Go_-_Jay_Sean_ _Sean_Paul- Mr-Punjab.Com .mp3', 'Mera_Valentine_Janab_-_Harsimran- Mr-Punjab.Com .mp3', 'Mere Baare - Bohemia (DJJOhAL.Com).mp3', 'Mere Piche - Monty   Waris (DJJOhAL.Com).mp3', 'Mere_Bare_-_Garry_Sandhu_-_128Kbps_-_www.DjPunjab.Com.mp3', 'Mere_Kol_-_Prabh_Gill_-_128Kbps_-_www.DjPunjab.Com.mp3', 'Mitran_Da_Mela-Benny_Dhaliwal www.Mp3MaD.Com .mp3', 'Mombatiye Ft. Raftaar   Manj Musik - Zohaib Amjad (DJJOhAL.Com).mp3', 'Most Wanted Ft. Snoop Dogg - Jazzy B   Mr. Capone-E (DJJOhAL.Com).mp3', 'Muchh - Dilpreet Dhillon (DJJOhAL.Com).mp3', 'Muchh Khadi Rakhda - Ravinder Grewal (DJJOhAL.Com).mp3', 'Muchh Sardaar Di - Amar Sajaalpuria (DJJOhAL.Com).mp3', 'Mukh - Kulbir Jhinjer (DJJOhAL.Com).mp3', 'Mulahjedariyan - Joban Sandhu (DJJOhAL.Com).mp3', 'Munda Guggu Gill Warga - Mankirt Aulakh (DJJOhAL.Com).mp3', 'Munda Like Me - Jaz Dhami (DJJOhAL.Com).mp3', 'Muqabala_Ft_Bohemia_KS_Makhan_Full_HQ.mp3', 'Muqabla_-_Bohemia_-_128Kbps_-_www.DjPunjab.Com.mp3', 'Murgi_-_Babbu_Maan- Mr-Punjab.Com .mp3', 'Naa_Balliey_-_A_Kay_-_128Kbps_-_www.DjPunjab.Com.mp3', 'Nain Dunali - Geeta Zaildar (DJJOhAL.Com).mp3', 'Naina (Dulla Bhatti) - Happy Raikoti (DJJOhAL.Com).mp3', 'Noonh Bebe Di - Dilpreet Dhillon (DJJOhAL.Com).mp3', 'Oscar_-_Gippy_Grewal_-_128Kbps_-_www.DjPunjab.Com.mp3', 'Outfit - Guru Randhawa (DJJOhAL.Com).mp3', 'Paani - Yuvraj Hans (DJJOhAL.Com).mp3', 'Pajero 2 Ft Kuwar Virk - Preet Brar (DJJOhAL.Com).mp3', 'Pakke_Pattandar_-_Sukhman_Heer_-_128Kbps_-_www.DjPunjab.Com.mp3', 'Panamera White - Diljit Dosanjh (DJJOhAL.Com).mp3', 'Panjeeri_-_Kulwinder_Billa_-_128Kbps_-_www.DjPunjab.Com.mp3', 'Pari - Ravinder Grewal (DJJOhAL.Com).mp3', 'Patt Lainge - Gippy Grewal Neha Kakkar (DJJOhAL.Com).mp3', 'PB 03 - Shivjot (DJJOhAL.Com).mp3', 'Pb 29 Ft Taj E - Preet Khaira (DJJOhAL.Com).mp3', 'Peg Laune Aa  Aman Hayer -(Mr-Jatt.com).mp3', 'Photogenic - Deep Money (DJJOhAL.Com).mp3', 'Plot - Geeta Zaildar (DJJOhAL.Com).mp3', 'Rabb Jaya Yaar - Kulbir Jhinjer (DJJOhAL.Com).mp3', 'Rabba Rabba - Gippy Grewal (DJJOhAL.Com).mp3', 'Raund - Kadir Thind (DJJOhAL.Com).mp3', 'Redua (Kaptaan) - Gippy Grewal (DJJOhAL.Com).mp3', 'Repeat (with JSL) - Jazzy B (DJJOhAL.Com).mp3', 'Roll_Karo_-_Lil_Golu_-_128Kbps_-_www.DjPunjab.Com.mp3', 'Rum_Pum_-_Preet_Harpal_ _Kuwar_Virk- Mr-Punjab.Com .mp3', 'Sad_Song_-_Sukh_E_Muzical_Doctorz_-_128Kbps_-_www.DjPunjab.Com.mp3', 'Sardaarji - Diljit Dosanjh (DJJOhAL.Com).mp3', 'Sardar - Gurjazz (DJJOhAL.Com).mp3', 'Sardarni_-_Kulbir_Jhinjer_-_128Kbps_-_www.DjPunjab.Com.mp3', 'Selfie - Babbu Maan (DJJOhAL.Com).mp3', 'Seyaal - Jass Bajwa (DJJOhAL.Com).mp3', 'Sharabi - Gagan Sidhu   Kuwar Virk (DJJOhAL.Com).mp3', 'Sheesha Down Feat. Ikka (DJJOhAL.Com).mp3', 'Sir Char Gayi Ft Deep Money - N S Chauhan (DJJOhAL.Com).mp3', 'Sitarey Ft. Tigerstyle - Jaz Dhami (DJJOhAL.Com).mp3', 'Skin - Diljit Dosanjh (DJJOhAL.Com).mp3', 'Sohniye_-_Master_Saleem_-_128Kbps_-_www.DjPunjab.Com.mp3', 'Standard-(Mr-Jatt.com).mp3', 'Star_-_Ninja_-_wWw.MR-CHAMKiLA.CoM.mp3', 'Superman-(Mr-Jatt.com).mp3', 'Supna - Amrinder Gill (DJJOhAL.Com).mp3', 'Surma To Sandals - Ammy Virk (DJJOhAL.Com).mp3', 'Taara_-_Mehtab_Virk_-_128Kbps_-_www.DjPunjab.Com.mp3', 'Tankha - Ranjit Bawa (DJJOhAL.Com).mp3', 'Tech N9ne - Speedom (wwc2) Ft. Eminem Krizz Kaliko (mp3goo.com).mp3', 'Tere_Naam_-_Ninja_-_128Kbps_-_www.DjPunjab.Com.mp3', 'Teri Yaari - Roshan Prince (DJJOhAL.Com).mp3', 'Teri_Meri_Yaari_-_Imran_Khan_-_128Kbps_-_www.DjPunjab.Com.mp3', 'Theth_Gabru_-_B_Jay_Randhawa_-_128Kbps_-_www.DjPunjab.Com.mp3', 'Zaalima - Bohemia   Waqar Ex (DJJOhAL.Com).mp3', 'Zamaana - Ninja  Jassi Lohka (DJJOhAL.Com).mp3', 'Zindabaad Yaarian - Ammy Virk (DJJOhAL.Com).mp3', '[Songs.PK] Rockstar - 11 - Nadaan Parinde.mp3', '[Songs.PK] Shanghai - 03 - Duaa.mp3']\n"
     ]
    }
   ],
   "source": [
    "directory = askdirectory()\n",
    "os.chdir(directory)\n",
    "songlist = os.listdir()\n",
    "print(songlist)\n"
   ]
  },
  {
   "cell_type": "code",
   "execution_count": 9,
   "metadata": {},
   "outputs": [],
   "source": [
    "playlist = tkt.Listbox(musicPlayer, font = \"Cambria 14 bold\", bg =\"cyan2\" ,selectmode = tkt.SINGLE)"
   ]
  },
  {
   "cell_type": "code",
   "execution_count": 10,
   "metadata": {},
   "outputs": [],
   "source": [
    "for item in songlist:\n",
    "    pos = 0\n",
    "    playlist.insert(pos,item)\n",
    "    pos += 1"
   ]
  },
  {
   "cell_type": "code",
   "execution_count": 11,
   "metadata": {},
   "outputs": [],
   "source": [
    "pygame.init()\n",
    "pygame.mixer.init()"
   ]
  },
  {
   "cell_type": "code",
   "execution_count": 12,
   "metadata": {},
   "outputs": [],
   "source": [
    "def play():\n",
    "    pygame.mixer.music.load(playlist.get(tkt.ACTIVE))\n",
    "    var.set(playlist.get(tkt.ACTIVE))\n",
    "    pygame.mixer.music.play()"
   ]
  },
  {
   "cell_type": "code",
   "execution_count": 13,
   "metadata": {},
   "outputs": [],
   "source": [
    "def stop():\n",
    "    pygame.mixer.music.stop()"
   ]
  },
  {
   "cell_type": "code",
   "execution_count": 14,
   "metadata": {},
   "outputs": [],
   "source": [
    "def pause():\n",
    "    pygame.mixer.music.pause()"
   ]
  },
  {
   "cell_type": "code",
   "execution_count": 15,
   "metadata": {},
   "outputs": [],
   "source": [
    "def resume():\n",
    "    pygame.mixer.music.unpause()"
   ]
  },
  {
   "cell_type": "code",
   "execution_count": 16,
   "metadata": {},
   "outputs": [],
   "source": [
    "button_play = tkt.Button(musicPlayer,height = 1,width = 5,text = \"play\",font = \"Cambria 14 bold\",command = play,bg = \"Lime green\",fg = \"black\")\n",
    "button_play.pack()"
   ]
  },
  {
   "cell_type": "code",
   "execution_count": 17,
   "metadata": {},
   "outputs": [],
   "source": [
    "button_stop = tkt.Button(musicPlayer,height = 1,width = 5,text = \"stop\",font = \"Cambria 14 bold\",command = stop,bg = \"red\",fg = \"black\")\n",
    "button_stop.pack()"
   ]
  },
  {
   "cell_type": "code",
   "execution_count": 18,
   "metadata": {},
   "outputs": [],
   "source": [
    "button_pause = tkt.Button(musicPlayer,height = 1,width = 5,text = \"pause\",font = \"Cambria 14 bold\",command = pause,bg = \"yellow\",fg = \"black\")\n",
    "button_pause.pack()"
   ]
  },
  {
   "cell_type": "code",
   "execution_count": 19,
   "metadata": {},
   "outputs": [],
   "source": [
    "button_resume = tkt.Button(musicPlayer,height = 1,width = 5,text = \"resume\",font = \"Cambria 14 bold\",command = resume,bg = \"green\",fg = \"black\")\n",
    "button_resume.pack()"
   ]
  },
  {
   "cell_type": "code",
   "execution_count": 20,
   "metadata": {},
   "outputs": [],
   "source": [
    "playlist.pack(fill = \"both\",expand = \"true\")"
   ]
  },
  {
   "cell_type": "code",
   "execution_count": 21,
   "metadata": {},
   "outputs": [],
   "source": [
    "var = tkt.StringVar()\n",
    "songTitle = tkt.Label(musicPlayer,font = \"Cambria 14 bold\",textvariable = var)\n",
    "songTitle.pack()"
   ]
  },
  {
   "cell_type": "code",
   "execution_count": null,
   "metadata": {},
   "outputs": [],
   "source": []
  },
  {
   "cell_type": "code",
   "execution_count": 22,
   "metadata": {},
   "outputs": [],
   "source": [
    "musicPlayer.mainloop()"
   ]
  },
  {
   "cell_type": "code",
   "execution_count": null,
   "metadata": {},
   "outputs": [],
   "source": []
  }
 ],
 "metadata": {
  "kernelspec": {
   "display_name": "Python 3",
   "language": "python",
   "name": "python3"
  },
  "language_info": {
   "codemirror_mode": {
    "name": "ipython",
    "version": 3
   },
   "file_extension": ".py",
   "mimetype": "text/x-python",
   "name": "python",
   "nbconvert_exporter": "python",
   "pygments_lexer": "ipython3",
   "version": "3.7.4"
  }
 },
 "nbformat": 4,
 "nbformat_minor": 2
}
