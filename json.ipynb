{
 "cells": [
  {
   "cell_type": "code",
   "execution_count": 7,
   "metadata": {},
   "outputs": [
    {
     "name": "stdout",
     "output_type": "stream",
     "text": [
      "Enter Location:Vilnius University\n",
      "https://maps.googleapis.com/maps/api/geocode/json?sensor=false&address=Vilnius+University\n",
      "b'{\\n   \"error_message\" : \"You must use an API key to authenticate each request to Google Maps Platform APIs. For additional information, please refer to http://g.co/dev/maps-no-account\",\\n   \"results\" : [],\\n   \"status\" : \"REQUEST_DENIED\"\\n}\\n'\n"
     ]
    },
    {
     "ename": "IndexError",
     "evalue": "list index out of range",
     "output_type": "error",
     "traceback": [
      "\u001b[1;31m---------------------------------------------------------------------------\u001b[0m",
      "\u001b[1;31mIndexError\u001b[0m                                Traceback (most recent call last)",
      "\u001b[1;32m<ipython-input-7-f50b8ce58b1f>\u001b[0m in \u001b[0;36m<module>\u001b[1;34m\u001b[0m\n\u001b[0;32m     21\u001b[0m \u001b[1;31m#\"place_id\" field\u001b[0m\u001b[1;33m\u001b[0m\u001b[1;33m\u001b[0m\u001b[1;33m\u001b[0m\u001b[0m\n\u001b[0;32m     22\u001b[0m \u001b[0mjsondata\u001b[0m \u001b[1;33m=\u001b[0m \u001b[0mjson\u001b[0m\u001b[1;33m.\u001b[0m\u001b[0mloads\u001b[0m\u001b[1;33m(\u001b[0m\u001b[0mdata\u001b[0m\u001b[1;33m)\u001b[0m\u001b[1;33m\u001b[0m\u001b[1;33m\u001b[0m\u001b[0m\n\u001b[1;32m---> 23\u001b[1;33m \u001b[0mplace_id\u001b[0m \u001b[1;33m=\u001b[0m \u001b[0mjsondata\u001b[0m\u001b[1;33m[\u001b[0m\u001b[1;34m\"results\"\u001b[0m\u001b[1;33m]\u001b[0m\u001b[1;33m[\u001b[0m\u001b[1;36m0\u001b[0m\u001b[1;33m]\u001b[0m\u001b[1;33m[\u001b[0m\u001b[1;34m\"place_id\"\u001b[0m\u001b[1;33m]\u001b[0m\u001b[1;33m\u001b[0m\u001b[1;33m\u001b[0m\u001b[0m\n\u001b[0m\u001b[0;32m     24\u001b[0m \u001b[0mprint\u001b[0m\u001b[1;33m(\u001b[0m \u001b[0mplace_id\u001b[0m\u001b[1;33m)\u001b[0m\u001b[1;33m\u001b[0m\u001b[1;33m\u001b[0m\u001b[0m\n",
      "\u001b[1;31mIndexError\u001b[0m: list index out of range"
     ]
    }
   ],
   "source": [
    "import urllib.request, urllib.parse, urllib.error\n",
    "import json\n",
    "serviceurl = \"https://maps.googleapis.com/maps/api/geocode/json?\"\n",
    "data_address = input(\"Enter Location:\")\n",
    "address_wanted = data_address\n",
    "\n",
    "#Setting the GET parameters on the URL\n",
    "parameters = {\"sensor\": \"false\", \"address\": address_wanted}\n",
    "paramsurl = urllib.parse.urlencode(parameters)\n",
    "\n",
    "#Generating the complete URL. Printing it in order to check if it's correct.\n",
    "queryurl = serviceurl + paramsurl\n",
    "print(queryurl)\n",
    "\n",
    "#Obtaining and reading the data\n",
    "data = urllib.request.urlopen(queryurl).read()\n",
    "print(data)\n",
    "#Parsing the data and looking for the field we want.\n",
    "#That field is inside the \"Results\" array, in its first item (if our address is \n",
    "#correct we can assume that the result would be the correct one) and on its \n",
    "#\"place_id\" field\n",
    "jsondata = json.loads(data)\n",
    "place_id = jsondata[\"results\"][0][\"place_id\"]\n",
    "print( place_id)"
   ]
  },
  {
   "cell_type": "code",
   "execution_count": null,
   "metadata": {},
   "outputs": [],
   "source": []
  }
 ],
 "metadata": {
  "kernelspec": {
   "display_name": "Python 3",
   "language": "python",
   "name": "python3"
  },
  "language_info": {
   "codemirror_mode": {
    "name": "ipython",
    "version": 3
   },
   "file_extension": ".py",
   "mimetype": "text/x-python",
   "name": "python",
   "nbconvert_exporter": "python",
   "pygments_lexer": "ipython3",
   "version": "3.7.4"
  }
 },
 "nbformat": 4,
 "nbformat_minor": 2
}
