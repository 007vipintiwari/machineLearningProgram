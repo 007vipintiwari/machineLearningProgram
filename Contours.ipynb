{
 "cells": [
  {
   "cell_type": "code",
   "execution_count": 4,
   "metadata": {},
   "outputs": [],
   "source": [
    "import cv2\n",
    "import numpy as np"
   ]
  },
  {
   "cell_type": "code",
   "execution_count": 7,
   "metadata": {},
   "outputs": [],
   "source": [
    "image = cv2.imread(\"shapes.jpg\")"
   ]
  },
  {
   "cell_type": "code",
   "execution_count": 8,
   "metadata": {},
   "outputs": [],
   "source": [
    "cv2.imshow(\"shapes\",image)\n",
    "cv2.waitKey(0)\n",
    "cv2.destroyAllWindows()"
   ]
  },
  {
   "cell_type": "code",
   "execution_count": 9,
   "metadata": {},
   "outputs": [],
   "source": [
    "#convert into gray scale\n",
    "gray = cv2.cvtColor(image,cv2.COLOR_BGR2GRAY)\n",
    "\n",
    "#using canny to find edges in the images\n",
    "edges = cv2.Canny(gray,70,150)\n",
    "cv2.imshow(\"edges\",edges)\n",
    "cv2.waitKey(0)\n",
    "cv2.destroyAllWindows()"
   ]
  },
  {
   "cell_type": "code",
   "execution_count": 12,
   "metadata": {},
   "outputs": [],
   "source": [
    "#we copy images because contours can alter the image\n",
    "image2 = edges.copy()"
   ]
  },
  {
   "cell_type": "code",
   "execution_count": 13,
   "metadata": {},
   "outputs": [],
   "source": [
    "cv2.imshow(\"copy image\",image2)\n",
    "cv2.waitKey(0)\n",
    "cv2.destroyAllWindows()\n"
   ]
  },
  {
   "cell_type": "code",
   "execution_count": 20,
   "metadata": {},
   "outputs": [],
   "source": [
    "#finding contours\n",
    "_,contours ,hierarchy = cv2.findContours(edges, cv2.RETR_EXTERNAL, cv2.CHAIN_APPROX_SIMPLE)\n",
    "cv2.imshow(\"edges after applying contours\",edges)\n",
    "cv2.waitKey(0)\n",
    "cv2.destroyAllWindows()"
   ]
  },
  {
   "cell_type": "code",
   "execution_count": 22,
   "metadata": {},
   "outputs": [
    {
     "name": "stdout",
     "output_type": "stream",
     "text": [
      "[array([[[368, 157]],\n",
      "\n",
      "       [[366, 159]],\n",
      "\n",
      "       [[367, 160]],\n",
      "\n",
      "       [[366, 161]],\n",
      "\n",
      "       [[366, 296]],\n",
      "\n",
      "       [[367, 297]],\n",
      "\n",
      "       [[367, 302]],\n",
      "\n",
      "       [[487, 302]],\n",
      "\n",
      "       [[488, 303]],\n",
      "\n",
      "       [[491, 303]],\n",
      "\n",
      "       [[493, 301]],\n",
      "\n",
      "       [[492, 300]],\n",
      "\n",
      "       [[492, 299]],\n",
      "\n",
      "       [[493, 298]],\n",
      "\n",
      "       [[493, 297]],\n",
      "\n",
      "       [[492, 296]],\n",
      "\n",
      "       [[492, 160]],\n",
      "\n",
      "       [[493, 159]],\n",
      "\n",
      "       [[491, 157]],\n",
      "\n",
      "       [[490, 158]],\n",
      "\n",
      "       [[487, 158]],\n",
      "\n",
      "       [[486, 157]]], dtype=int32), array([[[520,  63]],\n",
      "\n",
      "       [[518,  65]],\n",
      "\n",
      "       [[518, 310]],\n",
      "\n",
      "       [[519, 311]],\n",
      "\n",
      "       [[782, 311]],\n",
      "\n",
      "       [[782,  64]],\n",
      "\n",
      "       [[781,  63]]], dtype=int32), array([[[ 16,  19]],\n",
      "\n",
      "       [[ 15,  20]],\n",
      "\n",
      "       [[ 15,  21]],\n",
      "\n",
      "       [[ 14,  22]],\n",
      "\n",
      "       [[ 14, 305]],\n",
      "\n",
      "       [[ 15, 306]],\n",
      "\n",
      "       [[ 15, 308]],\n",
      "\n",
      "       [[330, 308]],\n",
      "\n",
      "       [[330, 307]],\n",
      "\n",
      "       [[331, 306]],\n",
      "\n",
      "       [[331, 304]],\n",
      "\n",
      "       [[330, 303]],\n",
      "\n",
      "       [[330,  23]],\n",
      "\n",
      "       [[331,  22]],\n",
      "\n",
      "       [[331,  21]],\n",
      "\n",
      "       [[330,  20]],\n",
      "\n",
      "       [[329,  20]],\n",
      "\n",
      "       [[328,  19]]], dtype=int32)]\n",
      "The number of contours in the images: 3\n"
     ]
    }
   ],
   "source": [
    "#print contours and length of contours\n",
    "print(contours)\n",
    "print(\"The number of contours in the images: \" + str(len(contours)))"
   ]
  },
  {
   "cell_type": "code",
   "execution_count": 23,
   "metadata": {},
   "outputs": [],
   "source": [
    "#draw contours in the images\n",
    "cv2.drawContours(image,contours,1,(0,255,23),3)\n",
    "cv2.imshow(\"Contours 1\",image)\n",
    "cv2.waitKey(0)\n",
    "cv2.destroyAllWindows()"
   ]
  },
  {
   "cell_type": "code",
   "execution_count": 24,
   "metadata": {},
   "outputs": [],
   "source": [
    "cv2.drawContours(image,contours,2,(0,255,223),3)\n",
    "cv2.imshow(\"Contours 2\",image)\n",
    "cv2.waitKey(0)\n",
    "cv2.destroyAllWindows()"
   ]
  },
  {
   "cell_type": "code",
   "execution_count": 26,
   "metadata": {},
   "outputs": [],
   "source": [
    "cv2.drawContours(image,contours,0,(240,255,23),3)\n",
    "cv2.imshow(\"Contours 3\",image)\n",
    "cv2.waitKey(0)\n",
    "cv2.destroyAllWindows()"
   ]
  },
  {
   "cell_type": "code",
   "execution_count": 27,
   "metadata": {},
   "outputs": [],
   "source": [
    "cv2.drawContours(image,contours,-1,(255,255,23),3)\n",
    "cv2.imshow(\"Contours \",image)\n",
    "cv2.waitKey(0)\n",
    "cv2.destroyAllWindows()"
   ]
  },
  {
   "cell_type": "code",
   "execution_count": null,
   "metadata": {},
   "outputs": [],
   "source": []
  }
 ],
 "metadata": {
  "kernelspec": {
   "display_name": "Python 3",
   "language": "python",
   "name": "python3"
  },
  "language_info": {
   "codemirror_mode": {
    "name": "ipython",
    "version": 3
   },
   "file_extension": ".py",
   "mimetype": "text/x-python",
   "name": "python",
   "nbconvert_exporter": "python",
   "pygments_lexer": "ipython3",
   "version": "3.7.4"
  }
 },
 "nbformat": 4,
 "nbformat_minor": 2
}
